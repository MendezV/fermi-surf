{
 "cells": [
  {
   "cell_type": "code",
   "execution_count": 5,
   "metadata": {},
   "outputs": [
    {
     "name": "stdout",
     "output_type": "stream",
     "text": [
      "Using matplotlib backend: Qt5Agg\n",
      "Populating the interactive namespace from numpy and matplotlib\n"
     ]
    },
    {
     "name": "stderr",
     "output_type": "stream",
     "text": [
      "/home/juan/anaconda3/lib/python3.7/site-packages/IPython/core/magics/pylab.py:160: UserWarning: pylab import has clobbered these variables: ['f']\n",
      "`%matplotlib` prevents importing * from pylab and numpy\n",
      "  \"\\n`%matplotlib` prevents importing * from pylab and numpy\"\n"
     ]
    }
   ],
   "source": [
    "import numpy as np\n",
    "import matplotlib.pyplot as plt\n",
    "%pylab"
   ]
  },
  {
   "cell_type": "code",
   "execution_count": 8,
   "metadata": {},
   "outputs": [],
   "source": [
    "def f(x, y):\n",
    "    return -4*(np.cos(x)+np.cos(0.5*x-np.sqrt(3)*y/2)+np.cos(0.5*x+np.sqrt(3)*y/2))+12\n",
    "\n",
    "\n",
    "x = np.linspace(-5, 5, 500)\n",
    "y = np.linspace(-4.5, 4.5, 400)\n",
    "\n",
    "X, Y = np.meshgrid(x, y)\n",
    "Z = f(X, Y)\n",
    "\n",
    "\n",
    "#plt.contour(X, Y, Z, 20, cmap='winter',levels=18);\n",
    "#plt.colorbar()\n",
    "import matplotlib as mpl\n",
    "Npoints_q=10\n",
    "t=np.linspace(0, 1, Npoints_q)\n",
    "\n",
    "pol=[[2*np.pi/3,4*np.pi/3,2*np.pi/3,-2*np.pi/3,-4*np.pi/3,-2*np.pi/3],[-2*np.pi/np.sqrt(3),0,2*np.pi/np.sqrt(3),2*np.pi/np.sqrt(3),0,-2*np.pi/np.sqrt(3)]]\n",
    "#scatter(pol[0],pol[1])\n",
    "\n",
    "pn=[[0,4*np.pi/3,np.pi,0],[0,0,np.pi/np.sqrt(3),0]]\n",
    "\n",
    "for i in range(6):\n",
    "    plot(pol[0][i%6]*(1-t)+t*pol[0][(i+1)%6],pol[1][i%6]*(1-t)+t*pol[1][(i+1)%6], c='k')\n",
    "    \n",
    "qxslist=[]\n",
    "qyslist=[]   \n",
    "for i in range(3):\n",
    "    qxslist.append(pn[0][i%4]*(1-t)+t*pn[0][(i+1)%4])\n",
    "    qyslist.append(pn[1][i%4]*(1-t)+t*pn[1][(i+1)%4])\n",
    "    plot(pn[0][i%4]*(1-t)+t*pn[0][(i+1)%4],pn[1][i%4]*(1-t)+t*pn[1][(i+1)%4], c='r')\n",
    "\n",
    "\n",
    "plt.xticks(fontsize=18)\n",
    "plt.yticks(fontsize=18)\n",
    "plt.ylabel(r'$k_y$', size=20)\n",
    "plt.xlabel(r'$k_x$', size=20)\n",
    "#plt.text(7.3,0,r'$\\epsilon_F$',size=20)\n",
    "plt.text(-0.42,-0.3,r'$\\Gamma$',size=25)\n",
    "plt.text(3.1,2,r'$M$',size=20)\n",
    "plt.text(4.3,-0.20,r'$K$',size=20)\n",
    "xticks([])\n",
    "yticks([])\n",
    "plt.show()\n",
    "\n",
    "qxs=reshape(vstack(qxslist),[1,3*Npoints_q])\n",
    "qys=reshape(vstack(qyslist),[1,3*Npoints_q])\n",
    "preQs=reshape(array([qxs,qys]).T,[3*Npoints_q,2])\n",
    "norms=sqrt(sum(preQs*preQs,axis=1))\n",
    "Qs=preQs[where(norms > 0)[0]]\n",
    "\n",
    "def flattens(*lists):\n",
    "    a = []\n",
    "    for l in lists:\n",
    "        a.extend(l)\n",
    "    return a\n",
    "    \n",
    "qxslist=[]\n",
    "qyslist=[]\n",
    "dq=1/25.0\n",
    "totpoints=0\n",
    "points_ksp=[]\n",
    "for i in range(3):\n",
    "    disti=sqrt((pn[0][(i+1)%4]-pn[0][i%4])**2 +(pn[1][(i+1)%4]-pn[1][i%4])**2 )/dq\n",
    "    t=np.linspace(0, 1, int(disti))\n",
    "    points_ksp.append(totpoints)\n",
    "    totpoints=totpoints+int(disti)\n",
    "    qxslist.extend(list(pn[0][i%4]*(1-t)+t*pn[0][(i+1)%4]))\n",
    "    qyslist.extend(list(pn[1][i%4]*(1-t)+t*pn[1][(i+1)%4]))\n",
    "    \n",
    "\n",
    "points_ksp.append(totpoints)\n",
    "\n",
    "qxs=array(qxslist)\n",
    "qys=array(qyslist)\n",
    "preQs=reshape(array([qxs,qys]).T,[totpoints,2])\n",
    "norms=sqrt(sum(preQs*preQs,axis=1))\n",
    "Qs=preQs[where(norms > 0)[0]]\n"
   ]
  },
  {
   "cell_type": "code",
   "execution_count": null,
   "metadata": {},
   "outputs": [],
   "source": []
  }
 ],
 "metadata": {
  "kernelspec": {
   "display_name": "Python 3",
   "language": "python",
   "name": "python3"
  },
  "language_info": {
   "codemirror_mode": {
    "name": "ipython",
    "version": 3
   },
   "file_extension": ".py",
   "mimetype": "text/x-python",
   "name": "python",
   "nbconvert_exporter": "python",
   "pygments_lexer": "ipython3",
   "version": "3.7.6"
  }
 },
 "nbformat": 4,
 "nbformat_minor": 4
}
